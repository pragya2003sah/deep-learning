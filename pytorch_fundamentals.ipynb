{
  "nbformat": 4,
  "nbformat_minor": 0,
  "metadata": {
    "colab": {
      "provenance": [],
      "authorship_tag": "ABX9TyORSBrCWZIZThQXSC15v6r+",
      "include_colab_link": true
    },
    "kernelspec": {
      "name": "python3",
      "display_name": "Python 3"
    },
    "language_info": {
      "name": "python"
    }
  },
  "cells": [
    {
      "cell_type": "markdown",
      "metadata": {
        "id": "view-in-github",
        "colab_type": "text"
      },
      "source": [
        "<a href=\"https://colab.research.google.com/github/pragya2003sah/deep-learning/blob/main/pytorch_fundamentals.ipynb\" target=\"_parent\"><img src=\"https://colab.research.google.com/assets/colab-badge.svg\" alt=\"Open In Colab\"/></a>"
      ]
    },
    {
      "cell_type": "code",
      "execution_count": null,
      "metadata": {
        "colab": {
          "base_uri": "https://localhost:8080/"
        },
        "id": "CbkrgctPJqeL",
        "outputId": "029f7fce-9cd3-4190-fe8b-2bd27a47381f"
      },
      "outputs": [
        {
          "output_type": "stream",
          "name": "stdout",
          "text": [
            "2.6.0+cu124\n"
          ]
        }
      ],
      "source": [
        "import torch\n",
        "print(torch.__version__)"
      ]
    },
    {
      "cell_type": "markdown",
      "source": [
        "# INTRODUCING TENSORS\n"
      ],
      "metadata": {
        "id": "4-Nj_sSxLxdw"
      }
    },
    {
      "cell_type": "code",
      "source": [
        "# scalar\n",
        "scalar=torch.tensor(7) # creating a scalar tensor\n",
        "scalar.item() #extracting the tensor to python int"
      ],
      "metadata": {
        "colab": {
          "base_uri": "https://localhost:8080/"
        },
        "id": "FVxCIKTlL1iy",
        "outputId": "8af15bce-d619-4797-e18a-7cf58761f52c"
      },
      "execution_count": null,
      "outputs": [
        {
          "output_type": "execute_result",
          "data": {
            "text/plain": [
              "7"
            ]
          },
          "metadata": {},
          "execution_count": 28
        }
      ]
    },
    {
      "cell_type": "code",
      "source": [
        "# vector\n",
        "vector=torch.tensor([8,8])\n",
        "vector.shape"
      ],
      "metadata": {
        "colab": {
          "base_uri": "https://localhost:8080/"
        },
        "id": "2tm3mOQSNdkt",
        "outputId": "3fa5710f-e496-4e8d-ce7a-54213f45dc19"
      },
      "execution_count": null,
      "outputs": [
        {
          "output_type": "execute_result",
          "data": {
            "text/plain": [
              "torch.Size([2])"
            ]
          },
          "metadata": {},
          "execution_count": 29
        }
      ]
    },
    {
      "cell_type": "code",
      "source": [
        "MATRIX=torch.tensor([[7,8],[9,0]])\n",
        "MATRIX[1]"
      ],
      "metadata": {
        "colab": {
          "base_uri": "https://localhost:8080/"
        },
        "id": "YA9wj9b-NuuA",
        "outputId": "8fd82daf-c830-499a-b664-99b115615b13"
      },
      "execution_count": null,
      "outputs": [
        {
          "output_type": "execute_result",
          "data": {
            "text/plain": [
              "tensor([9, 0])"
            ]
          },
          "metadata": {},
          "execution_count": 30
        }
      ]
    },
    {
      "cell_type": "code",
      "source": [
        "MATRIX.ndim"
      ],
      "metadata": {
        "colab": {
          "base_uri": "https://localhost:8080/"
        },
        "id": "cbuFNGt2OsiW",
        "outputId": "b6f80559-1111-4ccf-d7f6-0044408aed6a"
      },
      "execution_count": null,
      "outputs": [
        {
          "output_type": "execute_result",
          "data": {
            "text/plain": [
              "2"
            ]
          },
          "metadata": {},
          "execution_count": 31
        }
      ]
    },
    {
      "cell_type": "markdown",
      "source": [
        "tensor.torch(7) converts a element of tensor data type, similar to numpys ndarray but with added capabilities of GPU."
      ],
      "metadata": {
        "id": "mB4rv-sXO3Vj"
      }
    },
    {
      "cell_type": "code",
      "source": [
        "#TENSOR\n",
        "TENSOR=torch.tensor([[[1,2,3],\n",
        "                      [2,3,4],\n",
        "                      [3,4,5]]])\n",
        "TENSOR"
      ],
      "metadata": {
        "colab": {
          "base_uri": "https://localhost:8080/"
        },
        "id": "Sjq7KP_Y0DvL",
        "outputId": "60b7df9e-9b82-4f84-beb4-76bd36ab2838"
      },
      "execution_count": null,
      "outputs": [
        {
          "output_type": "execute_result",
          "data": {
            "text/plain": [
              "tensor([[[1, 2, 3],\n",
              "         [2, 3, 4],\n",
              "         [3, 4, 5]]])"
            ]
          },
          "metadata": {},
          "execution_count": 32
        }
      ]
    },
    {
      "cell_type": "code",
      "source": [
        "TENSOR.ndim\n",
        "TENSOR.shape"
      ],
      "metadata": {
        "colab": {
          "base_uri": "https://localhost:8080/"
        },
        "id": "vxsYF65E0X_B",
        "outputId": "ddd94ff3-3237-4b79-e7d2-a7542e988c87"
      },
      "execution_count": null,
      "outputs": [
        {
          "output_type": "execute_result",
          "data": {
            "text/plain": [
              "torch.Size([1, 3, 3])"
            ]
          },
          "metadata": {},
          "execution_count": 33
        }
      ]
    },
    {
      "cell_type": "code",
      "source": [
        "TENSOR[0]"
      ],
      "metadata": {
        "colab": {
          "base_uri": "https://localhost:8080/"
        },
        "id": "PlA865uU0j9Y",
        "outputId": "b12fd801-5986-416e-e0ff-d09e85bf9fa8"
      },
      "execution_count": null,
      "outputs": [
        {
          "output_type": "execute_result",
          "data": {
            "text/plain": [
              "tensor([[1, 2, 3],\n",
              "        [2, 3, 4],\n",
              "        [3, 4, 5]])"
            ]
          },
          "metadata": {},
          "execution_count": 34
        }
      ]
    },
    {
      "cell_type": "code",
      "source": [
        "TENSOR[0,1]"
      ],
      "metadata": {
        "colab": {
          "base_uri": "https://localhost:8080/"
        },
        "id": "bziOjMH00zUW",
        "outputId": "5b5f2abb-d55e-4027-df9d-6343d7e8feb3"
      },
      "execution_count": null,
      "outputs": [
        {
          "output_type": "execute_result",
          "data": {
            "text/plain": [
              "tensor([2, 3, 4])"
            ]
          },
          "metadata": {},
          "execution_count": 35
        }
      ]
    },
    {
      "cell_type": "markdown",
      "source": [
        "# RANDOM TENSORS\n",
        "random tensors are important as the way any neural network learns is that they start with random numbers and then adjust those random numbers to better fit the data."
      ],
      "metadata": {
        "id": "74b9LcNx1L9z"
      }
    },
    {
      "cell_type": "code",
      "source": [
        "random_tensor=torch.rand(3,4)\n",
        "random_tensor"
      ],
      "metadata": {
        "colab": {
          "base_uri": "https://localhost:8080/"
        },
        "id": "XK2jQ0Tb3GN0",
        "outputId": "e5faaddd-7536-4ece-875d-31d16af22739"
      },
      "execution_count": null,
      "outputs": [
        {
          "output_type": "execute_result",
          "data": {
            "text/plain": [
              "tensor([[0.5157, 0.7063, 0.9098, 0.4651],\n",
              "        [0.6982, 0.9360, 0.5231, 0.5836],\n",
              "        [0.2775, 0.0256, 0.7934, 0.9295]])"
            ]
          },
          "metadata": {},
          "execution_count": 36
        }
      ]
    },
    {
      "cell_type": "code",
      "source": [
        "random_image_tensor=torch.rand(size=(3,2,3))\n",
        "random_image_tensor.ndim\n",
        "random_image_tensor.shape\n",
        "random_image_tensor"
      ],
      "metadata": {
        "colab": {
          "base_uri": "https://localhost:8080/"
        },
        "id": "qSQXzsTE4Rlx",
        "outputId": "06bc1449-0a90-40f2-f9a5-48fcaeebe9a8"
      },
      "execution_count": null,
      "outputs": [
        {
          "output_type": "execute_result",
          "data": {
            "text/plain": [
              "tensor([[[0.9651, 0.0319, 0.4111],\n",
              "         [0.1140, 0.3476, 0.3621]],\n",
              "\n",
              "        [[0.5484, 0.7484, 0.2229],\n",
              "         [0.8261, 0.2263, 0.6055]],\n",
              "\n",
              "        [[0.1047, 0.4820, 0.9035],\n",
              "         [0.8338, 0.7625, 0.9151]]])"
            ]
          },
          "metadata": {},
          "execution_count": 37
        }
      ]
    },
    {
      "cell_type": "markdown",
      "source": [
        "# ZEROES AND ONES"
      ],
      "metadata": {
        "id": "6T6NmLOK5iRi"
      }
    },
    {
      "cell_type": "code",
      "source": [
        "# creating tensor with all zeroes\n",
        "zeroes=torch.zeros(size=(3,4))\n",
        "zeroes"
      ],
      "metadata": {
        "colab": {
          "base_uri": "https://localhost:8080/"
        },
        "id": "t0L4ofLD6Jrw",
        "outputId": "43561510-4b92-4eb5-b982-59baa55fc9fb"
      },
      "execution_count": null,
      "outputs": [
        {
          "output_type": "execute_result",
          "data": {
            "text/plain": [
              "tensor([[0., 0., 0., 0.],\n",
              "        [0., 0., 0., 0.],\n",
              "        [0., 0., 0., 0.]])"
            ]
          },
          "metadata": {},
          "execution_count": 38
        }
      ]
    },
    {
      "cell_type": "code",
      "source": [
        "# all ones\n",
        "ones=torch.ones(size=(1,2))\n",
        "ones"
      ],
      "metadata": {
        "colab": {
          "base_uri": "https://localhost:8080/"
        },
        "id": "feJ_Os-z6R8g",
        "outputId": "0f4fcca3-8e29-4ecf-dd1e-adc8d19885b5"
      },
      "execution_count": null,
      "outputs": [
        {
          "output_type": "execute_result",
          "data": {
            "text/plain": [
              "tensor([[1., 1.]])"
            ]
          },
          "metadata": {},
          "execution_count": 39
        }
      ]
    },
    {
      "cell_type": "markdown",
      "source": [
        "# creating a range of tensors and tensors-like"
      ],
      "metadata": {
        "id": "khehW3pJ6ngt"
      }
    },
    {
      "cell_type": "code",
      "source": [
        "torch.arange(start=0,end=30,step=5)"
      ],
      "metadata": {
        "colab": {
          "base_uri": "https://localhost:8080/"
        },
        "id": "dYIKvI2h7PTy",
        "outputId": "17325c2e-971f-4783-8ecb-79a35b7d08af"
      },
      "execution_count": null,
      "outputs": [
        {
          "output_type": "execute_result",
          "data": {
            "text/plain": [
              "tensor([ 0,  5, 10, 15, 20, 25])"
            ]
          },
          "metadata": {},
          "execution_count": 40
        }
      ]
    },
    {
      "cell_type": "code",
      "source": [
        " # tensor-like- when we want to create a new tensor with the shape of another tensor without explicitly telling the shape\n",
        "like_tensors=torch.zeros_like(input=zeroes)\n",
        "like_tensors"
      ],
      "metadata": {
        "colab": {
          "base_uri": "https://localhost:8080/"
        },
        "id": "51QOht0e7kVQ",
        "outputId": "28492bae-1799-46a1-e350-5aba2c80582c"
      },
      "execution_count": null,
      "outputs": [
        {
          "output_type": "execute_result",
          "data": {
            "text/plain": [
              "tensor([[0., 0., 0., 0.],\n",
              "        [0., 0., 0., 0.],\n",
              "        [0., 0., 0., 0.]])"
            ]
          },
          "metadata": {},
          "execution_count": 41
        }
      ]
    },
    {
      "cell_type": "code",
      "source": [
        "# TENSOR DATATYPES\n",
        "\n",
        "float_32_tensor=torch.tensor([3.0,6.0,9.0],dtype=None,device=None,requires_grad=False)\n",
        "float_32_tensor.dtype\n"
      ],
      "metadata": {
        "colab": {
          "base_uri": "https://localhost:8080/"
        },
        "id": "5_U3NTxc9H3o",
        "outputId": "790948d4-9e6c-451b-cfbf-1381ed3f706c"
      },
      "execution_count": null,
      "outputs": [
        {
          "output_type": "execute_result",
          "data": {
            "text/plain": [
              "torch.float32"
            ]
          },
          "metadata": {},
          "execution_count": 42
        }
      ]
    },
    {
      "cell_type": "code",
      "source": [
        "float_16_tensor=torch.tensor([2,3,4],\n",
        "                             dtype=torch.float16,\n",
        "                             device=None,\n",
        "                             requires_grad=False)\n",
        "float_16_tensor.dtype"
      ],
      "metadata": {
        "colab": {
          "base_uri": "https://localhost:8080/"
        },
        "id": "L8y21VliB0gL",
        "outputId": "1117b6a7-e447-4ea7-d9d3-54a8aae75177"
      },
      "execution_count": null,
      "outputs": [
        {
          "output_type": "execute_result",
          "data": {
            "text/plain": [
              "torch.float16"
            ]
          },
          "metadata": {},
          "execution_count": 43
        }
      ]
    },
    {
      "cell_type": "code",
      "source": [
        "float_32_tensor*float_16_tensor"
      ],
      "metadata": {
        "colab": {
          "base_uri": "https://localhost:8080/"
        },
        "id": "OXbCPq_uB11E",
        "outputId": "5c3525fa-dbd5-4410-a5ed-5e806d490282"
      },
      "execution_count": null,
      "outputs": [
        {
          "output_type": "execute_result",
          "data": {
            "text/plain": [
              "tensor([ 6., 18., 36.])"
            ]
          },
          "metadata": {},
          "execution_count": 44
        }
      ]
    },
    {
      "cell_type": "code",
      "source": [
        "# tensor attributes\n",
        "print(float_32_tensor.dtype)\n",
        "print(float_32_tensor.shape)\n",
        "print(float_32_tensor.device)"
      ],
      "metadata": {
        "colab": {
          "base_uri": "https://localhost:8080/"
        },
        "id": "-n7RIBZpCVG8",
        "outputId": "0df0acc1-72c5-423c-c70a-f96cbe5a014f"
      },
      "execution_count": null,
      "outputs": [
        {
          "output_type": "stream",
          "name": "stdout",
          "text": [
            "torch.float32\n",
            "torch.Size([3])\n",
            "cpu\n"
          ]
        }
      ]
    },
    {
      "cell_type": "markdown",
      "source": [
        "# manipulating Tensors\n",
        "operations include-\n",
        "1-addition\n",
        "2-subtraction\n",
        "3-multiplication(element-wise)\n",
        "4-division\n",
        "5-matrix multiplication\n",
        "these operations are helpful to convert our random tensors to be more similar to data"
      ],
      "metadata": {
        "id": "MdgLyCfUE9zH"
      }
    },
    {
      "cell_type": "code",
      "source": [
        "tensor=torch.tensor([1,2,3])"
      ],
      "metadata": {
        "id": "F4RtilHMWKDl"
      },
      "execution_count": null,
      "outputs": []
    },
    {
      "cell_type": "code",
      "source": [
        "#addition\n",
        "tensor+10"
      ],
      "metadata": {
        "colab": {
          "base_uri": "https://localhost:8080/"
        },
        "id": "TiC3RXG4Wq3i",
        "outputId": "e01d91f3-af23-4347-d302-5cc530b5f51b"
      },
      "execution_count": null,
      "outputs": [
        {
          "output_type": "execute_result",
          "data": {
            "text/plain": [
              "tensor([11, 12, 13])"
            ]
          },
          "metadata": {},
          "execution_count": 47
        }
      ]
    },
    {
      "cell_type": "code",
      "source": [
        "#muliplication\n",
        "tensor*10"
      ],
      "metadata": {
        "colab": {
          "base_uri": "https://localhost:8080/"
        },
        "id": "VbxL5h5IWwQX",
        "outputId": "f47473e6-cb01-46f4-9ba0-7d32646e1d15"
      },
      "execution_count": null,
      "outputs": [
        {
          "output_type": "execute_result",
          "data": {
            "text/plain": [
              "tensor([10, 20, 30])"
            ]
          },
          "metadata": {},
          "execution_count": 48
        }
      ]
    },
    {
      "cell_type": "code",
      "source": [
        "#subtaction\n",
        "tensor-1"
      ],
      "metadata": {
        "colab": {
          "base_uri": "https://localhost:8080/"
        },
        "id": "wiCFC0IiWynp",
        "outputId": "802d1402-5717-44f3-9c39-750d1c98041b"
      },
      "execution_count": null,
      "outputs": [
        {
          "output_type": "execute_result",
          "data": {
            "text/plain": [
              "tensor([0, 1, 2])"
            ]
          },
          "metadata": {},
          "execution_count": 49
        }
      ]
    },
    {
      "cell_type": "code",
      "source": [
        "# inbuilt function\n",
        "torch.mul(tensor,10)\n",
        "torch.add(tensor,10)\n",
        "torch.sub(tensor,1)"
      ],
      "metadata": {
        "colab": {
          "base_uri": "https://localhost:8080/"
        },
        "id": "EVoku1ZCW4ej",
        "outputId": "7253083b-05c6-49dd-d22d-36c9961f9c7a"
      },
      "execution_count": null,
      "outputs": [
        {
          "output_type": "execute_result",
          "data": {
            "text/plain": [
              "tensor([0, 1, 2])"
            ]
          },
          "metadata": {},
          "execution_count": 50
        }
      ]
    },
    {
      "cell_type": "code",
      "source": [
        "# matrix multiplication\n",
        "print(tensor*tensor)\n",
        "print(torch.matmul(tensor,tensor))\n",
        "#matmul gives us a dot product of the matrix multiplication"
      ],
      "metadata": {
        "colab": {
          "base_uri": "https://localhost:8080/"
        },
        "id": "j6CN58jUXNcl",
        "outputId": "0854de93-cf5e-4db3-bfed-f8ad259faed7"
      },
      "execution_count": null,
      "outputs": [
        {
          "output_type": "stream",
          "name": "stdout",
          "text": [
            "tensor([1, 4, 9])\n",
            "tensor(14)\n"
          ]
        }
      ]
    },
    {
      "cell_type": "markdown",
      "source": [
        "# rules for matrix multiplcation\n",
        "1> inner dimension must match((3,2)@(3,2) - no (3,2)@(2,3)-yes\n",
        "                              )\n",
        "2>the resulting matrix has a shape of outer dimentions"
      ],
      "metadata": {
        "id": "xgDte5KXY6NC"
      }
    },
    {
      "cell_type": "code",
      "source": [
        "# shape errors and how to deal with them\n",
        "tensor_A=torch.tensor([[1,2],\n",
        "                       [2,3],\n",
        "                       [3,4]])\n",
        "tensor_B=torch.tensor([[2,5],\n",
        "                       [3,6],\n",
        "                       [5,7]])\n",
        "torch.mm(tensor_A,tensor_B) # mm is a shortform of matmul"
      ],
      "metadata": {
        "id": "VEyXvdZIcPKe",
        "colab": {
          "base_uri": "https://localhost:8080/",
          "height": 176
        },
        "outputId": "6d3e0b10-b387-4f8b-90c8-f7f747f11dba"
      },
      "execution_count": null,
      "outputs": [
        {
          "output_type": "error",
          "ename": "RuntimeError",
          "evalue": "mat1 and mat2 shapes cannot be multiplied (3x2 and 3x2)",
          "traceback": [
            "\u001b[0;31m---------------------------------------------------------------------------\u001b[0m",
            "\u001b[0;31mRuntimeError\u001b[0m                              Traceback (most recent call last)",
            "\u001b[0;32m/tmp/ipython-input-52-3453968875.py\u001b[0m in \u001b[0;36m<cell line: 0>\u001b[0;34m()\u001b[0m\n\u001b[1;32m      6\u001b[0m                        \u001b[0;34m[\u001b[0m\u001b[0;36m3\u001b[0m\u001b[0;34m,\u001b[0m\u001b[0;36m6\u001b[0m\u001b[0;34m]\u001b[0m\u001b[0;34m,\u001b[0m\u001b[0;34m\u001b[0m\u001b[0;34m\u001b[0m\u001b[0m\n\u001b[1;32m      7\u001b[0m                        [5,7]])\n\u001b[0;32m----> 8\u001b[0;31m \u001b[0mtorch\u001b[0m\u001b[0;34m.\u001b[0m\u001b[0mmm\u001b[0m\u001b[0;34m(\u001b[0m\u001b[0mtensor_A\u001b[0m\u001b[0;34m,\u001b[0m\u001b[0mtensor_B\u001b[0m\u001b[0;34m)\u001b[0m \u001b[0;31m# mm is a shortform of matmul\u001b[0m\u001b[0;34m\u001b[0m\u001b[0;34m\u001b[0m\u001b[0m\n\u001b[0m",
            "\u001b[0;31mRuntimeError\u001b[0m: mat1 and mat2 shapes cannot be multiplied (3x2 and 3x2)"
          ]
        }
      ]
    },
    {
      "cell_type": "code",
      "source": [
        "# transposing to fix the issue so that the inner dimensions of both matrices remain same.\n",
        "tensor_B.T,tensor_B.T.shape\n"
      ],
      "metadata": {
        "colab": {
          "base_uri": "https://localhost:8080/"
        },
        "id": "hK6uTO3Xhx8g",
        "outputId": "9574f276-5ef5-4891-888b-455661c2cfeb"
      },
      "execution_count": null,
      "outputs": [
        {
          "output_type": "execute_result",
          "data": {
            "text/plain": [
              "(tensor([[2, 3, 5],\n",
              "         [5, 6, 7]]),\n",
              " torch.Size([2, 3]))"
            ]
          },
          "metadata": {},
          "execution_count": 72
        }
      ]
    },
    {
      "cell_type": "code",
      "source": [
        "torch.matmul(tensor_A,tensor_B.T)"
      ],
      "metadata": {
        "colab": {
          "base_uri": "https://localhost:8080/"
        },
        "id": "ecqhD0LKiZNV",
        "outputId": "ee88157d-c46a-4037-9ec9-919957050c24"
      },
      "execution_count": null,
      "outputs": [
        {
          "output_type": "execute_result",
          "data": {
            "text/plain": [
              "tensor([[12, 15, 19],\n",
              "        [19, 24, 31],\n",
              "        [26, 33, 43]])"
            ]
          },
          "metadata": {},
          "execution_count": 73
        }
      ]
    },
    {
      "cell_type": "code",
      "source": [
        "# tensor aggregation\n",
        "x=torch.arange(1,90,10)\n",
        "x,x.dtype"
      ],
      "metadata": {
        "colab": {
          "base_uri": "https://localhost:8080/"
        },
        "id": "B4z-c5wuik2d",
        "outputId": "672ef790-0cea-4a37-a218-8c240880233d"
      },
      "execution_count": null,
      "outputs": [
        {
          "output_type": "execute_result",
          "data": {
            "text/plain": [
              "(tensor([ 1, 11, 21, 31, 41, 51, 61, 71, 81]), torch.int64)"
            ]
          },
          "metadata": {},
          "execution_count": 74
        }
      ]
    },
    {
      "cell_type": "code",
      "source": [
        "torch.min(x),x.min()"
      ],
      "metadata": {
        "colab": {
          "base_uri": "https://localhost:8080/"
        },
        "id": "JrDyOuiolKBQ",
        "outputId": "20881a32-1613-483d-f4c9-5016460715c1"
      },
      "execution_count": null,
      "outputs": [
        {
          "output_type": "execute_result",
          "data": {
            "text/plain": [
              "(tensor(1), tensor(1))"
            ]
          },
          "metadata": {},
          "execution_count": 75
        }
      ]
    },
    {
      "cell_type": "code",
      "source": [
        "torch.max(x),x.max()"
      ],
      "metadata": {
        "colab": {
          "base_uri": "https://localhost:8080/"
        },
        "id": "6XmuFmkDlQ45",
        "outputId": "04c30a63-5eef-40da-d486-339a50693a1a"
      },
      "execution_count": null,
      "outputs": [
        {
          "output_type": "execute_result",
          "data": {
            "text/plain": [
              "(tensor(81), tensor(81))"
            ]
          },
          "metadata": {},
          "execution_count": 76
        }
      ]
    },
    {
      "cell_type": "code",
      "source": [
        "torch.mean(x) # eg of worong datatype error"
      ],
      "metadata": {
        "colab": {
          "base_uri": "https://localhost:8080/",
          "height": 141
        },
        "id": "oXyvOvqwlVId",
        "outputId": "dee8ba83-816a-46a0-ed9b-f30cc98f48ba"
      },
      "execution_count": null,
      "outputs": [
        {
          "output_type": "error",
          "ename": "RuntimeError",
          "evalue": "mean(): could not infer output dtype. Input dtype must be either a floating point or complex dtype. Got: Long",
          "traceback": [
            "\u001b[0;31m---------------------------------------------------------------------------\u001b[0m",
            "\u001b[0;31mRuntimeError\u001b[0m                              Traceback (most recent call last)",
            "\u001b[0;32m/tmp/ipython-input-77-4025827132.py\u001b[0m in \u001b[0;36m<cell line: 0>\u001b[0;34m()\u001b[0m\n\u001b[0;32m----> 1\u001b[0;31m \u001b[0mtorch\u001b[0m\u001b[0;34m.\u001b[0m\u001b[0mmean\u001b[0m\u001b[0;34m(\u001b[0m\u001b[0mx\u001b[0m\u001b[0;34m)\u001b[0m \u001b[0;31m# eg of worong datatype error\u001b[0m\u001b[0;34m\u001b[0m\u001b[0;34m\u001b[0m\u001b[0m\n\u001b[0m",
            "\u001b[0;31mRuntimeError\u001b[0m: mean(): could not infer output dtype. Input dtype must be either a floating point or complex dtype. Got: Long"
          ]
        }
      ]
    },
    {
      "cell_type": "code",
      "source": [
        "torch.mean(x.type(torch.float32))"
      ],
      "metadata": {
        "colab": {
          "base_uri": "https://localhost:8080/"
        },
        "id": "afMsPfdVlm8I",
        "outputId": "0b954e6f-6701-4f39-c885-babcd6bf1b45"
      },
      "execution_count": null,
      "outputs": [
        {
          "output_type": "execute_result",
          "data": {
            "text/plain": [
              "tensor(41.)"
            ]
          },
          "metadata": {},
          "execution_count": 78
        }
      ]
    },
    {
      "cell_type": "code",
      "source": [
        "torch.sum(x)"
      ],
      "metadata": {
        "colab": {
          "base_uri": "https://localhost:8080/"
        },
        "id": "WOR1GTNHl5Wj",
        "outputId": "94693926-3f63-4f71-ce83-e554576fe5e6"
      },
      "execution_count": null,
      "outputs": [
        {
          "output_type": "execute_result",
          "data": {
            "text/plain": [
              "tensor(369)"
            ]
          },
          "metadata": {},
          "execution_count": 79
        }
      ]
    },
    {
      "cell_type": "code",
      "source": [
        "# positional min and max- finding the position of the min and max element\n",
        "min=torch.argmin(x) # returns the index\n",
        "min,x[0]"
      ],
      "metadata": {
        "colab": {
          "base_uri": "https://localhost:8080/"
        },
        "id": "g08eSw9_mIii",
        "outputId": "077e0e62-3e45-41bb-a3fe-9035875bbae5"
      },
      "execution_count": null,
      "outputs": [
        {
          "output_type": "execute_result",
          "data": {
            "text/plain": [
              "(tensor(0), tensor(1))"
            ]
          },
          "metadata": {},
          "execution_count": 80
        }
      ]
    },
    {
      "cell_type": "code",
      "source": [
        "max=torch.argmax(x)\n",
        "max"
      ],
      "metadata": {
        "colab": {
          "base_uri": "https://localhost:8080/"
        },
        "id": "rldCSHs2mvF8",
        "outputId": "d13f8651-e516-4cac-ffd4-b2b9d9fa0467"
      },
      "execution_count": null,
      "outputs": [
        {
          "output_type": "execute_result",
          "data": {
            "text/plain": [
              "tensor(8)"
            ]
          },
          "metadata": {},
          "execution_count": 81
        }
      ]
    },
    {
      "cell_type": "code",
      "source": [
        "x[8]"
      ],
      "metadata": {
        "colab": {
          "base_uri": "https://localhost:8080/"
        },
        "id": "GSDT5Khvm7G0",
        "outputId": "cf8320a5-ff05-4ace-ce42-d25e4b9b2de3"
      },
      "execution_count": null,
      "outputs": [
        {
          "output_type": "execute_result",
          "data": {
            "text/plain": [
              "tensor(81)"
            ]
          },
          "metadata": {},
          "execution_count": 82
        }
      ]
    },
    {
      "cell_type": "markdown",
      "source": [
        "# reshaping,stacking , squeezing and unsqueeing techniques\n",
        "* Reshaping=reshapes the shape of the tensor to a defined Shape Type\n",
        "* view= shares the same memory location as input tensor and if i change the view the original also changes. functions very similar to reshape only difference being the memory.\n",
        "* stacking- combines multiple tensors on top of each other(vstack) or side by side(hstack)\n",
        "* squeeze- removes all `1` dimensions from a tensor\n",
        "* unsqueeze- add a `1` dimension to a target tensor\n",
        "* permute-return a view of the input with dimensions permuted(swapped) in a certain way"
      ],
      "metadata": {
        "id": "8r_-Z-N3m9gn"
      }
    },
    {
      "cell_type": "code",
      "source": [
        "import torch\n",
        "x=torch.arange(1.,10.)\n",
        "x,x.shape"
      ],
      "metadata": {
        "colab": {
          "base_uri": "https://localhost:8080/"
        },
        "id": "_G-t6N5A0q-2",
        "outputId": "84bc3a8b-5685-4f91-acec-fa1e2d93cf7c"
      },
      "execution_count": null,
      "outputs": [
        {
          "output_type": "execute_result",
          "data": {
            "text/plain": [
              "(tensor([1., 2., 3., 4., 5., 6., 7., 8., 9.]), torch.Size([9]))"
            ]
          },
          "metadata": {},
          "execution_count": 83
        }
      ]
    },
    {
      "cell_type": "code",
      "source": [
        "x_reshaped=torch.reshape(x,(9,1))\n",
        "x_reshaped,x_reshaped.shape\n",
        "# the new dimension must be compatible with the original shape"
      ],
      "metadata": {
        "colab": {
          "base_uri": "https://localhost:8080/"
        },
        "id": "piIS8n6R0-io",
        "outputId": "2369a7e6-a819-4ef4-fff4-463893bf7f48"
      },
      "execution_count": null,
      "outputs": [
        {
          "output_type": "execute_result",
          "data": {
            "text/plain": [
              "(tensor([[1.],\n",
              "         [2.],\n",
              "         [3.],\n",
              "         [4.],\n",
              "         [5.],\n",
              "         [6.],\n",
              "         [7.],\n",
              "         [8.],\n",
              "         [9.]]),\n",
              " torch.Size([9, 1]))"
            ]
          },
          "metadata": {},
          "execution_count": 84
        }
      ]
    },
    {
      "cell_type": "code",
      "source": [
        "x_reshaped=torch.reshape(x,(3,3))\n",
        "x_reshaped,x_reshaped.shape"
      ],
      "metadata": {
        "colab": {
          "base_uri": "https://localhost:8080/"
        },
        "outputId": "bd9be554-1ee8-4da4-d970-c5bff4c078c8",
        "id": "cf9S-0us17IF"
      },
      "execution_count": null,
      "outputs": [
        {
          "output_type": "execute_result",
          "data": {
            "text/plain": [
              "(tensor([[1., 2., 3.],\n",
              "         [4., 5., 6.],\n",
              "         [7., 8., 9.]]),\n",
              " torch.Size([3, 3]))"
            ]
          },
          "metadata": {},
          "execution_count": 85
        }
      ]
    },
    {
      "cell_type": "code",
      "source": [
        "z=x.view(1,9)\n",
        "z\n"
      ],
      "metadata": {
        "colab": {
          "base_uri": "https://localhost:8080/"
        },
        "id": "YXGe0bFU191l",
        "outputId": "4d4664e4-ab47-4a9d-b1a0-f4811ff33a9a"
      },
      "execution_count": null,
      "outputs": [
        {
          "output_type": "execute_result",
          "data": {
            "text/plain": [
              "tensor([[1., 2., 3., 4., 5., 6., 7., 8., 9.]])"
            ]
          },
          "metadata": {},
          "execution_count": 86
        }
      ]
    },
    {
      "cell_type": "code",
      "source": [
        "z=x.view(3,3)\n",
        "z,x"
      ],
      "metadata": {
        "colab": {
          "base_uri": "https://localhost:8080/"
        },
        "id": "3XcO1gLt7l9e",
        "outputId": "19971ab1-7330-451d-a0be-7bfea5f1cb59"
      },
      "execution_count": null,
      "outputs": [
        {
          "output_type": "execute_result",
          "data": {
            "text/plain": [
              "(tensor([[1., 2., 3.],\n",
              "         [4., 5., 6.],\n",
              "         [7., 8., 9.]]),\n",
              " tensor([1., 2., 3., 4., 5., 6., 7., 8., 9.]))"
            ]
          },
          "metadata": {},
          "execution_count": 87
        }
      ]
    },
    {
      "cell_type": "code",
      "source": [
        "z[0,2]=5\n",
        "z,x\n",
        "# z and x both share the same memory location although the dimension hasnt changed, the values accouding to the dimension changed(eg-z[0] represents the whole 0 vector whereas x[0] just represts a scalar,but by changing z we changed multiple scalars from x too)"
      ],
      "metadata": {
        "colab": {
          "base_uri": "https://localhost:8080/"
        },
        "id": "cAJiquKC7qDp",
        "outputId": "2fec5bc3-00fd-4065-9121-89d9c650f17b"
      },
      "execution_count": null,
      "outputs": [
        {
          "output_type": "execute_result",
          "data": {
            "text/plain": [
              "(tensor([[1., 2., 5.],\n",
              "         [4., 5., 6.],\n",
              "         [7., 8., 9.]]),\n",
              " tensor([1., 2., 5., 4., 5., 6., 7., 8., 9.]))"
            ]
          },
          "metadata": {},
          "execution_count": 88
        }
      ]
    },
    {
      "cell_type": "code",
      "source": [
        "# stack tensors on top of each other\n",
        "x_stacked_0=torch.stack([x,x],dim=0) #side by side\n",
        "x_stacked_1=torch.stack([x,x],dim=1) #column by column\n",
        "x_stacked_0,x_stacked_1\n"
      ],
      "metadata": {
        "colab": {
          "base_uri": "https://localhost:8080/"
        },
        "id": "NY_f393b76IG",
        "outputId": "a19619ec-72a1-4c04-fe69-56da6b4805c6"
      },
      "execution_count": null,
      "outputs": [
        {
          "output_type": "execute_result",
          "data": {
            "text/plain": [
              "(tensor([[1., 2., 5., 4., 5., 6., 7., 8., 9.],\n",
              "         [1., 2., 5., 4., 5., 6., 7., 8., 9.]]),\n",
              " tensor([[1., 1.],\n",
              "         [2., 2.],\n",
              "         [5., 5.],\n",
              "         [4., 4.],\n",
              "         [5., 5.],\n",
              "         [6., 6.],\n",
              "         [7., 7.],\n",
              "         [8., 8.],\n",
              "         [9., 9.]]))"
            ]
          },
          "metadata": {},
          "execution_count": 89
        }
      ]
    },
    {
      "cell_type": "code",
      "source": [
        "torch.squeeze(x_stacked_0),x_stacked_0"
      ],
      "metadata": {
        "colab": {
          "base_uri": "https://localhost:8080/"
        },
        "id": "IxlwFhvb9ZcQ",
        "outputId": "d89b33e0-e068-4d30-f400-20af78202363"
      },
      "execution_count": null,
      "outputs": [
        {
          "output_type": "execute_result",
          "data": {
            "text/plain": [
              "(tensor([[1., 2., 5., 4., 5., 6., 7., 8., 9.],\n",
              "         [1., 2., 5., 4., 5., 6., 7., 8., 9.]]),\n",
              " tensor([[1., 2., 5., 4., 5., 6., 7., 8., 9.],\n",
              "         [1., 2., 5., 4., 5., 6., 7., 8., 9.]]))"
            ]
          },
          "metadata": {},
          "execution_count": 90
        }
      ]
    },
    {
      "cell_type": "code",
      "source": [
        "torch.squeeze(x_reshaped),x_reshaped"
      ],
      "metadata": {
        "colab": {
          "base_uri": "https://localhost:8080/"
        },
        "id": "OeV68FlN-lYG",
        "outputId": "4546b17d-9c6b-4601-f151-7f72a2fca348"
      },
      "execution_count": null,
      "outputs": [
        {
          "output_type": "execute_result",
          "data": {
            "text/plain": [
              "(tensor([[1., 2., 5.],\n",
              "         [4., 5., 6.],\n",
              "         [7., 8., 9.]]),\n",
              " tensor([[1., 2., 5.],\n",
              "         [4., 5., 6.],\n",
              "         [7., 8., 9.]]))"
            ]
          },
          "metadata": {},
          "execution_count": 91
        }
      ]
    },
    {
      "cell_type": "markdown",
      "source": [
        "these squeeze functions did not work because there was no 1 dimension present in the tensor\n"
      ],
      "metadata": {
        "id": "mOdGCIj5Ame3"
      }
    },
    {
      "cell_type": "code",
      "source": [
        "dum=torch.arange(1.,9.)\n",
        "dum"
      ],
      "metadata": {
        "colab": {
          "base_uri": "https://localhost:8080/"
        },
        "id": "-XAjlhrE_Pa9",
        "outputId": "f43bc7c4-45d5-4d71-8ef1-46f44ffe3a57"
      },
      "execution_count": null,
      "outputs": [
        {
          "output_type": "execute_result",
          "data": {
            "text/plain": [
              "tensor([1., 2., 3., 4., 5., 6., 7., 8.])"
            ]
          },
          "metadata": {},
          "execution_count": 92
        }
      ]
    },
    {
      "cell_type": "code",
      "source": [
        "dum=dum.reshape((1,8))"
      ],
      "metadata": {
        "id": "MpAcwbku_UtV"
      },
      "execution_count": null,
      "outputs": []
    },
    {
      "cell_type": "code",
      "source": [
        "dum.squeeze().shape"
      ],
      "metadata": {
        "colab": {
          "base_uri": "https://localhost:8080/"
        },
        "id": "2g15VbF6_t-h",
        "outputId": "77b4d82b-cb95-43e9-9618-099e3ec66861"
      },
      "execution_count": null,
      "outputs": [
        {
          "output_type": "execute_result",
          "data": {
            "text/plain": [
              "torch.Size([8])"
            ]
          },
          "metadata": {},
          "execution_count": 94
        }
      ]
    },
    {
      "cell_type": "code",
      "source": [
        "dum.unsqueeze(dim=1),dum.unsqueeze(dim=1).shape"
      ],
      "metadata": {
        "colab": {
          "base_uri": "https://localhost:8080/"
        },
        "id": "zeya4zOd_t1K",
        "outputId": "3128c9d4-08a7-4a39-8c6f-0659892e8ee6"
      },
      "execution_count": null,
      "outputs": [
        {
          "output_type": "execute_result",
          "data": {
            "text/plain": [
              "(tensor([[[1., 2., 3., 4., 5., 6., 7., 8.]]]), torch.Size([1, 1, 8]))"
            ]
          },
          "metadata": {},
          "execution_count": 95
        }
      ]
    },
    {
      "cell_type": "code",
      "source": [
        "dum.unsqueeze(dim=2),dum.unsqueeze(dim=1).shape"
      ],
      "metadata": {
        "colab": {
          "base_uri": "https://localhost:8080/"
        },
        "id": "iD8EV7Gv_txf",
        "outputId": "bd035745-b6a7-4d2c-9297-201e82b79b65"
      },
      "execution_count": null,
      "outputs": [
        {
          "output_type": "execute_result",
          "data": {
            "text/plain": [
              "(tensor([[[1.],\n",
              "          [2.],\n",
              "          [3.],\n",
              "          [4.],\n",
              "          [5.],\n",
              "          [6.],\n",
              "          [7.],\n",
              "          [8.]]]),\n",
              " torch.Size([1, 1, 8]))"
            ]
          },
          "metadata": {},
          "execution_count": 96
        }
      ]
    },
    {
      "cell_type": "code",
      "source": [
        "# permute- rearranges the dimensions by their in index-based\n",
        "# it returns a view so changing the permutation changes the original\n",
        "x_original=torch.rand(size=(35,35,3))\n",
        "x_permuted=x_original.permute(2,0,1)# index 0->1 1->2 2->0\n",
        "x_original.shape,x_permuted.shape\n",
        "x_permuted[0,0,0]=3\n",
        "x_original[0,0,0],x_permuted[0,0,0]\n",
        "# although the dimension doesnt change the values changed"
      ],
      "metadata": {
        "colab": {
          "base_uri": "https://localhost:8080/"
        },
        "id": "peg2z8PhBIVk",
        "outputId": "1a66c7d3-edae-438b-9fe0-8e1be8b813ab"
      },
      "execution_count": null,
      "outputs": [
        {
          "output_type": "execute_result",
          "data": {
            "text/plain": [
              "(tensor(3.), tensor(3.))"
            ]
          },
          "metadata": {},
          "execution_count": 97
        }
      ]
    },
    {
      "cell_type": "code",
      "source": [
        "#indexing\n",
        "x=torch.arange(1,10).reshape(1,3,3)\n",
        "print(x,x.shape)\n",
        "print(x[0])\n",
        "print(x[0,0])\n",
        "print(x[0,0,0])"
      ],
      "metadata": {
        "colab": {
          "base_uri": "https://localhost:8080/"
        },
        "id": "mZTiLGsdCKzs",
        "outputId": "d64aaeef-b64a-4e72-d7e5-67e15d231e21"
      },
      "execution_count": null,
      "outputs": [
        {
          "output_type": "stream",
          "name": "stdout",
          "text": [
            "tensor([[[1, 2, 3],\n",
            "         [4, 5, 6],\n",
            "         [7, 8, 9]]]) torch.Size([1, 3, 3])\n",
            "tensor([[1, 2, 3],\n",
            "        [4, 5, 6],\n",
            "        [7, 8, 9]])\n",
            "tensor([1, 2, 3])\n",
            "tensor(1)\n"
          ]
        }
      ]
    },
    {
      "cell_type": "code",
      "source": [
        "# : to select all\n",
        "x[:,1,2]"
      ],
      "metadata": {
        "colab": {
          "base_uri": "https://localhost:8080/"
        },
        "id": "dp_exceRJSGl",
        "outputId": "1f65eb9c-7684-4489-ae51-92185fbb53b9"
      },
      "execution_count": null,
      "outputs": [
        {
          "output_type": "execute_result",
          "data": {
            "text/plain": [
              "tensor([6])"
            ]
          },
          "metadata": {},
          "execution_count": 99
        }
      ]
    },
    {
      "cell_type": "code",
      "source": [
        "x[:,:,2]"
      ],
      "metadata": {
        "colab": {
          "base_uri": "https://localhost:8080/"
        },
        "id": "-hppnSJ6KJiR",
        "outputId": "ac458c8c-bbf5-4521-85f3-945e60d281c7"
      },
      "execution_count": null,
      "outputs": [
        {
          "output_type": "execute_result",
          "data": {
            "text/plain": [
              "tensor([[3, 6, 9]])"
            ]
          },
          "metadata": {},
          "execution_count": 100
        }
      ]
    },
    {
      "cell_type": "code",
      "source": [
        "x[0,0,:]"
      ],
      "metadata": {
        "colab": {
          "base_uri": "https://localhost:8080/"
        },
        "id": "02k2uDieKdLV",
        "outputId": "6bc8acd3-0c06-4499-adbc-187a3c5275ab"
      },
      "execution_count": null,
      "outputs": [
        {
          "output_type": "execute_result",
          "data": {
            "text/plain": [
              "tensor([1, 2, 3])"
            ]
          },
          "metadata": {},
          "execution_count": 63
        }
      ]
    },
    {
      "cell_type": "markdown",
      "source": [
        "# pytorch and numpy\n",
        "* convert numpy array to tensor- `torch.from_numpy(ndarray)`\n",
        "* convert tensor to numpy - `torch.Tensor.numpy()`"
      ],
      "metadata": {
        "id": "O9MczJddK6El"
      }
    },
    {
      "cell_type": "code",
      "source": [
        "import numpy as np\n",
        "array=np.arange(1.,8.)\n",
        "array"
      ],
      "metadata": {
        "colab": {
          "base_uri": "https://localhost:8080/"
        },
        "id": "JschweNYMcSB",
        "outputId": "a48c446c-e857-428c-c368-255ab7ac1f0a"
      },
      "execution_count": null,
      "outputs": [
        {
          "output_type": "execute_result",
          "data": {
            "text/plain": [
              "array([1., 2., 3., 4., 5., 6., 7.])"
            ]
          },
          "metadata": {},
          "execution_count": 102
        }
      ]
    },
    {
      "cell_type": "code",
      "source": [
        "tensor=torch.from_numpy(array)\n",
        "tensor\n",
        "# default type of ndarray is float64. so the resultunt tensor will also be of float64."
      ],
      "metadata": {
        "colab": {
          "base_uri": "https://localhost:8080/"
        },
        "id": "fUW97se0MrtJ",
        "outputId": "39ab1d5f-c73c-43cc-9bb3-14748a9d16ec"
      },
      "execution_count": null,
      "outputs": [
        {
          "output_type": "execute_result",
          "data": {
            "text/plain": [
              "tensor([1., 2., 3., 4., 5., 6., 7.], dtype=torch.float64)"
            ]
          },
          "metadata": {},
          "execution_count": 103
        }
      ]
    },
    {
      "cell_type": "code",
      "source": [
        "array[1]=10\n",
        "array,tensor"
      ],
      "metadata": {
        "colab": {
          "base_uri": "https://localhost:8080/"
        },
        "id": "GMCs4GwVM8oA",
        "outputId": "ffdb9c44-2d63-473b-ca35-d251047f0343"
      },
      "execution_count": null,
      "outputs": [
        {
          "output_type": "execute_result",
          "data": {
            "text/plain": [
              "(array([ 1., 10.,  3.,  4.,  5.,  6.,  7.]),\n",
              " tensor([ 1., 10.,  3.,  4.,  5.,  6.,  7.], dtype=torch.float64))"
            ]
          },
          "metadata": {},
          "execution_count": 104
        }
      ]
    },
    {
      "cell_type": "code",
      "source": [
        "array=array+1\n",
        "array,tensor"
      ],
      "metadata": {
        "colab": {
          "base_uri": "https://localhost:8080/"
        },
        "id": "dKNLO2PUNalq",
        "outputId": "f2555f86-e051-4d92-ab7f-7e439fc7c13d"
      },
      "execution_count": null,
      "outputs": [
        {
          "output_type": "execute_result",
          "data": {
            "text/plain": [
              "(array([ 2., 11.,  4.,  5.,  6.,  7.,  8.]),\n",
              " tensor([ 1., 10.,  3.,  4.,  5.,  6.,  7.], dtype=torch.float64))"
            ]
          },
          "metadata": {},
          "execution_count": 105
        }
      ]
    },
    {
      "cell_type": "code",
      "source": [
        "array[0]=9\n",
        "array,tensor\n",
        "# since array=array+1 is creating a new variable in a new space, noe changing array does not impact the tensor"
      ],
      "metadata": {
        "colab": {
          "base_uri": "https://localhost:8080/"
        },
        "id": "BPNBBea6zTk7",
        "outputId": "9a14a97c-be59-49d8-a437-6efb0056503d"
      },
      "execution_count": null,
      "outputs": [
        {
          "output_type": "execute_result",
          "data": {
            "text/plain": [
              "(array([ 9., 11.,  4.,  5.,  6.,  7.,  8.]),\n",
              " tensor([ 1., 10.,  3.,  4.,  5.,  6.,  7.], dtype=torch.float64))"
            ]
          },
          "metadata": {},
          "execution_count": 107
        }
      ]
    },
    {
      "cell_type": "markdown",
      "source": [
        "original array and tensor share the same memory that is why any inplace change to the array reflect in the tensor.\n",
        "\n",
        "but array=array+1 creates a new array with a different location thus any change is not shown"
      ],
      "metadata": {
        "id": "EL8ED20qNpiq"
      }
    },
    {
      "cell_type": "code",
      "source": [
        "tensor=torch.ones(size=(3,3))\n",
        "numpy_tensor=tensor.numpy()\n",
        "numpy_tensor,tensor"
      ],
      "metadata": {
        "colab": {
          "base_uri": "https://localhost:8080/"
        },
        "id": "WgLAX6tVOwnm",
        "outputId": "56ccba80-5641-4f40-e781-d4193b156262"
      },
      "execution_count": null,
      "outputs": [
        {
          "output_type": "execute_result",
          "data": {
            "text/plain": [
              "(array([[1., 1., 1.],\n",
              "        [1., 1., 1.],\n",
              "        [1., 1., 1.]], dtype=float32),\n",
              " tensor([[1., 1., 1.],\n",
              "         [1., 1., 1.],\n",
              "         [1., 1., 1.]]))"
            ]
          },
          "metadata": {},
          "execution_count": 68
        }
      ]
    },
    {
      "cell_type": "code",
      "source": [
        "tensor[0,0]=0\n",
        "tensor,numpy_tensor"
      ],
      "metadata": {
        "colab": {
          "base_uri": "https://localhost:8080/"
        },
        "id": "5n8j8c6zO34d",
        "outputId": "735866bc-caef-4b44-c663-5490161c02fd"
      },
      "execution_count": null,
      "outputs": [
        {
          "output_type": "execute_result",
          "data": {
            "text/plain": [
              "(tensor([[0., 1., 1.],\n",
              "         [1., 1., 1.],\n",
              "         [1., 1., 1.]]),\n",
              " array([[0., 1., 1.],\n",
              "        [1., 1., 1.],\n",
              "        [1., 1., 1.]], dtype=float32))"
            ]
          },
          "metadata": {},
          "execution_count": 69
        }
      ]
    },
    {
      "cell_type": "markdown",
      "source": [
        " numpy only works with cpu.\n",
        "\n",
        "so if  a tensor on a gpu, if we do tensor.numpy(), it will result in an error.\n",
        "we first have to convert the tensor to cpu using .cpu() and then convert to numpy"
      ],
      "metadata": {
        "id": "-VZBVlw-Q7Qc"
      }
    },
    {
      "cell_type": "markdown",
      "source": [
        "# reproducibility(trying to take random out of random)\n",
        "getting the same random nos everytime.it is done to reduce the randomness.\n",
        "\n",
        "* random seed- to get the same random no. irrespective of the machine or time it is generated"
      ],
      "metadata": {
        "id": "fjNG7SpYPNET"
      }
    },
    {
      "cell_type": "code",
      "source": [
        "import torch\n",
        "RANDOM_TENSOR=42\n",
        "torch.manual_seed(RANDOM_TENSOR)\n",
        "random_A=torch.rand(3,4)\n",
        "torch.manual_seed(RANDOM_TENSOR)\n",
        "random_B=torch.rand(3,4)\n",
        "print(random_A)\n",
        "print(random_B)\n",
        "print(random_A==random_B)"
      ],
      "metadata": {
        "colab": {
          "base_uri": "https://localhost:8080/"
        },
        "id": "z9HBD0YpQU07",
        "outputId": "005fe4c9-ddd6-4501-f0ba-fb6ed22fa084"
      },
      "execution_count": null,
      "outputs": [
        {
          "output_type": "stream",
          "name": "stdout",
          "text": [
            "tensor([[0.8823, 0.9150, 0.3829, 0.9593],\n",
            "        [0.3904, 0.6009, 0.2566, 0.7936],\n",
            "        [0.9408, 0.1332, 0.9346, 0.5936]])\n",
            "tensor([[0.8823, 0.9150, 0.3829, 0.9593],\n",
            "        [0.3904, 0.6009, 0.2566, 0.7936],\n",
            "        [0.9408, 0.1332, 0.9346, 0.5936]])\n",
            "tensor([[True, True, True, True],\n",
            "        [True, True, True, True],\n",
            "        [True, True, True, True]])\n"
          ]
        }
      ]
    },
    {
      "cell_type": "code",
      "source": [
        "torch.cuda.device_count()"
      ],
      "metadata": {
        "colab": {
          "base_uri": "https://localhost:8080/"
        },
        "id": "TUSZrZsOeREL",
        "outputId": "c9a457d1-c682-44e7-9866-31161c6c94ff"
      },
      "execution_count": null,
      "outputs": [
        {
          "output_type": "execute_result",
          "data": {
            "text/plain": [
              "0"
            ]
          },
          "metadata": {},
          "execution_count": 71
        }
      ]
    },
    {
      "cell_type": "code",
      "source": [
        "import torch"
      ],
      "metadata": {
        "id": "6da8pxMtxMgt"
      },
      "execution_count": null,
      "outputs": []
    },
    {
      "cell_type": "code",
      "source": [
        "a=torch.tensor([1,2])\n",
        "b=torch.tensor([[1],\n",
        "                [2],\n",
        "                [3]])\n",
        "a+b"
      ],
      "metadata": {
        "colab": {
          "base_uri": "https://localhost:8080/"
        },
        "id": "OuxOaABqxN2E",
        "outputId": "e3131afc-e844-4b8a-9015-636eabdfa985"
      },
      "execution_count": null,
      "outputs": [
        {
          "output_type": "execute_result",
          "data": {
            "text/plain": [
              "tensor([[2, 3],\n",
              "        [3, 4],\n",
              "        [4, 5]])"
            ]
          },
          "metadata": {},
          "execution_count": 2
        }
      ]
    },
    {
      "cell_type": "code",
      "source": [],
      "metadata": {
        "id": "iYJD5yqQxZPv"
      },
      "execution_count": null,
      "outputs": []
    }
  ]
}